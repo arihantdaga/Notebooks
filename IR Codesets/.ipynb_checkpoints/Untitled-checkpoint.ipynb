{
 "cells": [
  {
   "cell_type": "code",
   "execution_count": 28,
   "metadata": {},
   "outputs": [
    {
     "name": "stdout",
     "output_type": "stream",
     "text": [
      "The autoreload extension is already loaded. To reload it, use:\n",
      "  %reload_ext autoreload\n"
     ]
    }
   ],
   "source": [
    "import tensorflow as tf\n",
    "from tensorflow.keras import layers\n",
    "%load_ext autoreload\n",
    "%autoreload 1"
   ]
  },
  {
   "cell_type": "code",
   "execution_count": 15,
   "metadata": {},
   "outputs": [],
   "source": [
    "import numpy as np\n",
    "import json\n",
    "import path\n",
    "from sklearn.model_selection import train_test_split\n",
    "# from helper import *"
   ]
  },
  {
   "cell_type": "markdown",
   "metadata": {},
   "source": [
    "The final Loaded Data should be like \n",
    "X: [[ X1, X2,... XN ], ... m] (an m by n matrix. )\n",
    "Where X1 - func\n",
    "X2 - power\n",
    "X3 - mode\n",
    "X4 - temp\n",
    "X5 - swing\n",
    "X6 - fan\n",
    "\n",
    "Y : [[Y1, Y2, Y3...YN2], [Y_2]... [Y_m]] (a m by N2 matrix )\n"
   ]
  },
  {
   "cell_type": "code",
   "execution_count": 26,
   "metadata": {},
   "outputs": [],
   "source": [
    "import json\n",
    "function_set_dict = {\n",
    "    \"POWER ON\": 1,\n",
    "    \"POWER OFF\": 2,\n",
    "    \"MODE AUTO\": 3,\n",
    "    \"MODE COOL\": 4,\n",
    "    \"MODE DRY\": 5,\n",
    "    \"MODE FAN\": 6,\n",
    "    \"MODE HEAT\": 7,\n",
    "    \"FAN SPD AUTO\": 8,\n",
    "    'FAN SPD AUTO': 9,\n",
    "    'FAN SPD LOW': 10,\n",
    "    'FAN SPD MID': 11,\n",
    "    'FAN SPD HIGH': 12,\n",
    "    'TEMP UP': 13,\n",
    "    'TEMP DOWN': 14\n",
    "}\n",
    "power_set_dict = {\n",
    "    'ON': 1,\n",
    "    \"OFF\": 2\n",
    "}\n",
    "mode_set_dict = {\n",
    "    'AUTO': 1, 'COOL': 2, 'DRY': 3, 'FAN': 4, 'HEAT': 5\n",
    "}\n",
    "temp_set_dict = {\n",
    "    '16': 1,\n",
    "    '17': 2,\n",
    "    '18': 3,\n",
    "    '19': 4,\n",
    "    '20': 5,\n",
    "    '21': 6,\n",
    "    '22': 7,\n",
    "    '23': 8,\n",
    "    '24': 9,\n",
    "    '25': 10,\n",
    "    '26': 11,\n",
    "    '27': 12,\n",
    "    '28': 13,\n",
    "    '29': 14,\n",
    "    '30': 15,\n",
    "    '31': 16\n",
    "}\n",
    "swing_set_dict = {\n",
    "    'OFF': 1,\n",
    "    'ON' : 2\n",
    "}\n",
    "fan_set_dict = {\n",
    "    'FAN_AUTO': 1, 'FAN_HI': 2, 'FAN_LOW' : 3, 'FAN_MID' : 4\n",
    "}\n",
    "\n",
    "def load_data_set():\n",
    "    X = []\n",
    "    Y = []\n",
    "    with open('data/codeset.json') as json_file:\n",
    "        data = json.load(json_file)\n",
    "        for elem in data[\"keys\"]:\n",
    "            X.append([function_set_dict[elem[\"func\"]], power_set_dict[elem[\"power_set\"]], mode_set_dict[elem[\"mode_set\"]], temp_set_dict[elem[\"temp_set\"]], swing_set_dict[elem[\"swing_set\"]], fan_set_dict[elem[\"fan_set\"]] ])\n",
    "            Y.append(list(map(int, elem[\"code\"].split(',')[:-1])))\n",
    "            \n",
    "    return np.array(X),np.array(Y)\n",
    "            "
   ]
  },
  {
   "cell_type": "code",
   "execution_count": 27,
   "metadata": {},
   "outputs": [
    {
     "name": "stdout",
     "output_type": "stream",
     "text": [
      "(428, 6) (428, 691)\n",
      "(342, 6) (342, 691)\n"
     ]
    }
   ],
   "source": [
    "X,Y = load_data_set()\n",
    "print(X.shape, Y.shape)\n",
    "data_train, data_test, labels_train, labels_test = train_test_split(X, Y, test_size=0.20, random_state=42)\n",
    "print(data_train.shape, labels_train.shape)"
   ]
  },
  {
   "cell_type": "markdown",
   "metadata": {},
   "source": [
    "### Lets start creating the model Now"
   ]
  },
  {
   "cell_type": "code",
   "execution_count": 42,
   "metadata": {},
   "outputs": [],
   "source": [
    "# model = tf.keras.Sequential([\n",
    "    \n",
    "# ])\n",
    "model = tf.keras.Sequential()\n",
    "model.add(layers.Dense(32, input_dim=6))\n",
    "model.add(layers.Activation('relu'))\n",
    "model.add(layers.Dense(691))\n",
    "\n",
    "model.compile(optimizer='adam',\n",
    "              loss='mean_squared_error',\n",
    "              metrics=['accuracy'])\n"
   ]
  },
  {
   "cell_type": "code",
   "execution_count": 44,
   "metadata": {},
   "outputs": [
    {
     "name": "stdout",
     "output_type": "stream",
     "text": [
      "Epoch 1/5\n",
      "342/342 [==============================] - 0s 127us/sample - loss: 565457.6137 - accuracy: 0.0000e+00\n",
      "Epoch 2/5\n",
      "342/342 [==============================] - 0s 111us/sample - loss: 562994.2306 - accuracy: 0.0000e+00\n",
      "Epoch 3/5\n",
      "342/342 [==============================] - 0s 106us/sample - loss: 559944.4441 - accuracy: 0.0000e+00\n",
      "Epoch 4/5\n",
      "342/342 [==============================] - 0s 97us/sample - loss: 556206.1531 - accuracy: 0.0000e+00\n",
      "Epoch 5/5\n",
      "342/342 [==============================] - 0s 149us/sample - loss: 551754.2116 - accuracy: 0.0000e+00\n"
     ]
    },
    {
     "data": {
      "text/plain": [
       "<tensorflow.python.keras.callbacks.History at 0x1a3049af28>"
      ]
     },
     "execution_count": 44,
     "metadata": {},
     "output_type": "execute_result"
    }
   ],
   "source": [
    "model.fit(data_train, labels_train, epochs=5)\n"
   ]
  },
  {
   "cell_type": "code",
   "execution_count": 45,
   "metadata": {},
   "outputs": [
    {
     "name": "stdout",
     "output_type": "stream",
     "text": [
      "86/86 [==============================] - 0s 676us/sample - loss: 548802.9012 - accuracy: 0.0000e+00\n"
     ]
    },
    {
     "data": {
      "text/plain": [
       "[548802.9011627907, 0.0]"
      ]
     },
     "execution_count": 45,
     "metadata": {},
     "output_type": "execute_result"
    }
   ],
   "source": [
    "model.evaluate(data_test, labels_test)"
   ]
  },
  {
   "cell_type": "code",
   "execution_count": 52,
   "metadata": {},
   "outputs": [
    {
     "data": {
      "text/plain": [
       "array([[24.859951 , 20.180338 , 21.010357 , ..., 19.296026 , 21.221596 ,\n",
       "        24.02875  ],\n",
       "       [20.713736 , 16.325306 , 17.433302 , ..., 16.00463  , 17.973372 ,\n",
       "        20.040297 ],\n",
       "       [28.019905 , 22.69826  , 23.975294 , ..., 21.835691 , 24.38022  ,\n",
       "        27.140608 ],\n",
       "       ...,\n",
       "       [15.657775 , 12.75499  , 13.220399 , ..., 11.911487 , 12.9958315,\n",
       "        14.920199 ],\n",
       "       [10.215131 ,  9.091464 ,  8.987532 , ...,  8.351331 ,  8.994482 ,\n",
       "         9.581515 ],\n",
       "       [20.084064 , 15.902114 , 17.369183 , ..., 15.922292 , 18.22965  ,\n",
       "        19.663815 ]], dtype=float32)"
      ]
     },
     "execution_count": 52,
     "metadata": {},
     "output_type": "execute_result"
    }
   ],
   "source": [
    "model.predict(data_test)"
   ]
  },
  {
   "cell_type": "code",
   "execution_count": null,
   "metadata": {},
   "outputs": [],
   "source": []
  }
 ],
 "metadata": {
  "kernelspec": {
   "display_name": "Python 3",
   "language": "python",
   "name": "python3"
  },
  "language_info": {
   "codemirror_mode": {
    "name": "ipython",
    "version": 3
   },
   "file_extension": ".py",
   "mimetype": "text/x-python",
   "name": "python",
   "nbconvert_exporter": "python",
   "pygments_lexer": "ipython3",
   "version": "3.6.4"
  }
 },
 "nbformat": 4,
 "nbformat_minor": 2
}
